{
 "cells": [
  {
   "cell_type": "markdown",
   "source": [
    "Just gotta know a little bit about modular arithmetic :)\n",
    "\n",
    "Looking over `oracle.py`, we see that there's a server that will encrypt and decrypt\n",
    "anything you like, as long as its in the correct format and not exactly the flag.\n",
    "\n",
    "<br>\n",
    "\n",
    "Recall that in RSA, if you encrypt a message $m$, you get an integer $m^e\\mod n$.\n",
    "\n",
    "To decrypt a message, the server has a private key $d$ such that\n",
    "$(m^e)^d \\equiv m \\mod n$.\n",
    "\n",
    "The server allows us to get a ciphertext $c$ such that\n",
    "$c^d \\equiv f\\mod n$, where $f$ is the plaintext flag.\n",
    "\n",
    "The server will decrypt any message for us _except_ exactly $c$. <br>\n",
    "But, it will decrypt a value like $k^e\\cdot c \\mod n$ <br>\n",
    "and give us <br>\n",
    "\\begin{align*}\n",
    "(k^e\\cdot c)^d\n",
    "&\\equiv (k^e)^d \\cdot c^d &\\mod n \\\\\n",
    "&\\equiv k\\cdot f &\\mod n\n",
    "\\end{align*}\n",
    "\n",
    "So, the attack is to send the above string to decrypt, with $k=2$, and divide\n",
    "the answer by 2 to get the flag: `ictf{y0u_m@d3_+!mmy_cry_y0u_3v!1_h@ck3r}`."
   ],
   "metadata": {
    "collapsed": false
   }
  }
 ],
 "metadata": {
  "kernelspec": {
   "display_name": "Python 3",
   "language": "python",
   "name": "python3"
  },
  "language_info": {
   "codemirror_mode": {
    "name": "ipython",
    "version": 2
   },
   "file_extension": ".py",
   "mimetype": "text/x-python",
   "name": "python",
   "nbconvert_exporter": "python",
   "pygments_lexer": "ipython2",
   "version": "2.7.6"
  }
 },
 "nbformat": 4,
 "nbformat_minor": 0
}