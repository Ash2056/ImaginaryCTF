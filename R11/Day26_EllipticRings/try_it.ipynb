{
 "cells": [
  {
   "cell_type": "code",
   "execution_count": 16,
   "metadata": {},
   "outputs": [
    {
     "data": {
      "text/plain": [
       "1251128891852175304577816767426603888023341933841004815696250293957305342087716267575893363625141669203074384137806776535536088952723996520917418461640938472433051110218321225949466764257720368654720239595620045239673323298880891"
      ]
     },
     "execution_count": 16,
     "metadata": {},
     "output_type": "execute_result"
    }
   ],
   "source": [
    "P_x=13721191374366420180377253776387076000480246815852205697410286316623904707509\n",
    "P_y=15546216794218269665387064067426591325783663330332949666584538995755179084261\n",
    "Q_x=7759521132309061296716250650979510027373452958739669671394739010159270474311\n",
    "Q_y=14302246045604117731126501528071886365994126908953754994206730761987730092254\n",
    "ans = (Q_x + 2*P_x)*(P_x-Q_x)^2 - (Q_y+P_y)^2\n",
    "ans"
   ]
  },
  {
   "cell_type": "code",
   "execution_count": 18,
   "metadata": {},
   "outputs": [],
   "source": [
    "p = 12654803915193133223 # from factordb\n",
    "p4 = p^4"
   ]
  },
  {
   "cell_type": "code",
   "execution_count": 19,
   "metadata": {},
   "outputs": [
    {
     "data": {
      "text/plain": [
       "7669670588629877144992842804193643002601053323686351994658644617911596247685"
      ]
     },
     "execution_count": 19,
     "metadata": {},
     "output_type": "execute_result"
    }
   ],
   "source": [
    "gamma = mod((Q_y + P_y)/(P_x-Q_x),p4)\n",
    "a = 2 * P_y * gamma - 3 * P_x^2\n",
    "a"
   ]
  },
  {
   "cell_type": "code",
   "execution_count": 20,
   "metadata": {},
   "outputs": [
    {
     "data": {
      "text/plain": [
       "21438989625452124310413049252282476037075371461049092465552651780630092720165"
      ]
     },
     "execution_count": 20,
     "metadata": {},
     "output_type": "execute_result"
    }
   ],
   "source": [
    "b = mod(P_y^2 - P_x^3 - a*P_x, p4)\n",
    "b"
   ]
  },
  {
   "cell_type": "code",
   "execution_count": 21,
   "metadata": {},
   "outputs": [
    {
     "data": {
      "text/plain": [
       "21438989625452124310413049252282476037075371461049092465552651780630092720165"
      ]
     },
     "execution_count": 21,
     "metadata": {},
     "output_type": "execute_result"
    }
   ],
   "source": [
    "b2 = mod(Q_y^2 - Q_x^3 - a*Q_x, p4)\n",
    "b2"
   ]
  },
  {
   "cell_type": "code",
   "execution_count": 23,
   "metadata": {},
   "outputs": [],
   "source": [
    "def magic_function_to_compute_curve_order(E):\n",
    "    # This holds because E(Z/p^k Z) ~= E(Z/pZ) × Z/p^k-1 Z\n",
    "    # The above can be generalized when considering a decomposition of a ring into a product of maximal ideals\n",
    "    return (E/GF(E.base_ring().characteristic())).order() * E.base_ring().order() // E.base_ring().characteristic()\n",
    "    # Scary maths"
   ]
  },
  {
   "cell_type": "code",
   "execution_count": 24,
   "metadata": {},
   "outputs": [
    {
     "data": {
      "text/plain": [
       "25646120645007299739763826024913834412156947459217936233741552234001865267905"
      ]
     },
     "execution_count": 24,
     "metadata": {},
     "output_type": "execute_result"
    }
   ],
   "source": [
    "o = magic_function_to_compute_curve_order(EllipticCurve(GF(p^4), [a, b]))\n",
    "o"
   ]
  },
  {
   "cell_type": "code",
   "execution_count": 26,
   "metadata": {},
   "outputs": [
    {
     "name": "stdout",
     "output_type": "stream",
     "text": [
      "ictf{HaHa_m@7h3mag1c5_g0_brrrrrrr}\n"
     ]
    }
   ],
   "source": [
    "flag = 1908238427445950804337450504869547077117085157723645071010868264470221173655056956\n",
    "b = int(flag ^^ (int(o)^3)).to_bytes(0xff,'big')\n",
    "print(b[b.find(b\"ictf{\"):].decode())"
   ]
  }
 ],
 "metadata": {
  "kernelspec": {
   "display_name": "SageMath 9.2",
   "language": "sage",
   "name": "sagemath"
  },
  "language_info": {
   "codemirror_mode": {
    "name": "ipython",
    "version": 3
   },
   "file_extension": ".py",
   "mimetype": "text/x-python",
   "name": "python",
   "nbconvert_exporter": "python",
   "pygments_lexer": "ipython3",
   "version": "3.7.7"
  }
 },
 "nbformat": 4,
 "nbformat_minor": 4
}
